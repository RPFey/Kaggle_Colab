{
  "nbformat": 4,
  "nbformat_minor": 0,
  "metadata": {
    "colab": {
      "name": "Kaggle Original",
      "provenance": [],
      "collapsed_sections": [],
      "toc_visible": true,
      "machine_shape": "hm",
      "include_colab_link": true
    },
    "kernelspec": {
      "name": "python3",
      "display_name": "Python 3"
    },
    "accelerator": "GPU"
  },
  "cells": [
    {
      "cell_type": "markdown",
      "metadata": {
        "id": "view-in-github",
        "colab_type": "text"
      },
      "source": [
        "<a href=\"https://colab.research.google.com/github/RPFey/Kaggle_Colab/blob/main/Kaggle_Original.ipynb\" target=\"_parent\"><img src=\"https://colab.research.google.com/assets/colab-badge.svg\" alt=\"Open In Colab\"/></a>"
      ]
    },
    {
      "cell_type": "markdown",
      "metadata": {
        "id": "_li9itVYjjpg"
      },
      "source": [
        "# CIS-522 Week 3 Homework\r\n",
        "\r\n",
        "\r\n",
        "**Instructor:** Konrad Kording\r\n",
        "\r\n",
        "**Content Creators:** Arash Ash, Jordan Lei"
      ]
    },
    {
      "cell_type": "code",
      "metadata": {
        "id": "pOoyXdCFijaM",
        "cellView": "form"
      },
      "source": [
        "#@markdown What is your Pennkey and pod? (text, not numbers, e.g. bfranklin)\r\n",
        "my_pennkey = '' #@param {type:\"string\"}\r\n",
        "my_pod = 'Select' #@param ['Select', 'euclidean-wombat', 'sublime-newt', 'buoyant-unicorn', 'lackadaisical-manatee','indelible-stingray','superfluous-lyrebird','discreet-reindeer','quizzical-goldfish','ubiquitous-cheetah','nonchalant-crocodile','fashionable-lemur','spiffy-eagle','electric-emu','quotidian-lion','astute-jellyfish', 'quantum-herring']\r\n",
        "\r\n",
        "# start timing\r\n",
        "import time\r\n",
        "try:t0;\r\n",
        "except NameError: t0 = time.time()\r\n"
      ],
      "execution_count": null,
      "outputs": []
    },
    {
      "cell_type": "markdown",
      "metadata": {
        "id": "XWOc48yQrvUI"
      },
      "source": [
        "---\r\n",
        "# Setup"
      ]
    },
    {
      "cell_type": "code",
      "metadata": {
        "id": "-mLNTKY8sEUj",
        "colab": {
          "base_uri": "https://localhost:8080/"
        },
        "outputId": "87d269e1-2cc6-4e9a-e359-77ea200f2c70"
      },
      "source": [
        "# imports\r\n",
        "import os\r\n",
        "import csv\r\n",
        "import json\r\n",
        "import random\r\n",
        "import pathlib\r\n",
        "\r\n",
        "import torch\r\n",
        "import numpy as np\r\n",
        "import pandas as pd\r\n",
        "import matplotlib.pyplot as plt\r\n",
        "\r\n",
        "import torch.nn as nn\r\n",
        "import torch.optim as optim\r\n",
        "import torch.nn.functional as F\r\n",
        "from torch.utils.data import DataLoader, TensorDataset\r\n",
        "from IPython.display import HTML, display\r\n",
        "\r\n",
        "dev = torch.device(\"cuda\" if torch.cuda.is_available() else \"cpu\")\r\n",
        "dev, torch.get_num_threads()"
      ],
      "execution_count": 1,
      "outputs": [
        {
          "output_type": "execute_result",
          "data": {
            "text/plain": [
              "(device(type='cuda'), 2)"
            ]
          },
          "metadata": {
            "tags": []
          },
          "execution_count": 1
        }
      ]
    },
    {
      "cell_type": "code",
      "metadata": {
        "id": "KCEnJU8StUzq",
        "colab": {
          "base_uri": "https://localhost:8080/"
        },
        "outputId": "18f68721-744c-4fab-fdfc-77f8b30833db"
      },
      "source": [
        "# @title Install Kaggle API (run me)\r\n",
        "# %%capture\r\n",
        "!pip install --upgrade --force-reinstall --no-deps kaggle==1.5.10\r\n",
        "!kaggle -v"
      ],
      "execution_count": 2,
      "outputs": [
        {
          "output_type": "stream",
          "text": [
            "Collecting kaggle==1.5.10\n",
            "\u001b[?25l  Downloading https://files.pythonhosted.org/packages/99/33/365c0d13f07a2a54744d027fe20b60dacdfdfb33bc04746db6ad0b79340b/kaggle-1.5.10.tar.gz (59kB)\n",
            "\r\u001b[K     |█████▌                          | 10kB 19.4MB/s eta 0:00:01\r\u001b[K     |███████████                     | 20kB 10.1MB/s eta 0:00:01\r\u001b[K     |████████████████▋               | 30kB 8.1MB/s eta 0:00:01\r\u001b[K     |██████████████████████▏         | 40kB 7.3MB/s eta 0:00:01\r\u001b[K     |███████████████████████████▊    | 51kB 4.4MB/s eta 0:00:01\r\u001b[K     |████████████████████████████████| 61kB 3.4MB/s \n",
            "\u001b[?25hBuilding wheels for collected packages: kaggle\n",
            "  Building wheel for kaggle (setup.py) ... \u001b[?25l\u001b[?25hdone\n",
            "  Created wheel for kaggle: filename=kaggle-1.5.10-cp36-none-any.whl size=73269 sha256=50669344e7f330de41510d74b1f156135cacc4b82e8cdbed66032522c631af66\n",
            "  Stored in directory: /root/.cache/pip/wheels/3a/d1/7e/6ce09b72b770149802c653a02783821629146983ee5a360f10\n",
            "Successfully built kaggle\n",
            "Installing collected packages: kaggle\n",
            "  Found existing installation: kaggle 1.5.10\n",
            "    Uninstalling kaggle-1.5.10:\n",
            "      Successfully uninstalled kaggle-1.5.10\n",
            "Successfully installed kaggle-1.5.10\n",
            "Traceback (most recent call last):\n",
            "  File \"/usr/local/bin/kaggle\", line 5, in <module>\n",
            "    from kaggle.cli import main\n",
            "  File \"/usr/local/lib/python3.6/dist-packages/kaggle/__init__.py\", line 23, in <module>\n",
            "    api.authenticate()\n",
            "  File \"/usr/local/lib/python3.6/dist-packages/kaggle/api/kaggle_api_extended.py\", line 166, in authenticate\n",
            "    self.config_file, self.config_dir))\n",
            "OSError: Could not find kaggle.json. Make sure it's located in /root/.kaggle. Or use the environment method.\n"
          ],
          "name": "stdout"
        }
      ]
    },
    {
      "cell_type": "code",
      "metadata": {
        "id": "hFpjwPq78MdR",
        "cellView": "form"
      },
      "source": [
        "# @title Helper functions\r\n",
        "def imshow(img):\r\n",
        "    img = img / 2 + 0.5     # unnormalize\r\n",
        "    npimg = img.numpy()\r\n",
        "    plt.imshow(np.transpose(npimg, (1, 2, 0)))\r\n",
        "    plt.axis(False)\r\n",
        "    plt.show()\r\n",
        "\r\n",
        "def progress(epoch, loss, epochs=100):\r\n",
        "    return HTML(\"\"\"\r\n",
        "        <label for=\"file\">Training loss: {loss}</label>\r\n",
        "        <progress\r\n",
        "            value='{epoch}'\r\n",
        "            max='{epochs}',\r\n",
        "            style='width: 100%'\r\n",
        "        >\r\n",
        "            {epoch}\r\n",
        "        </progress>\r\n",
        "    \"\"\".format(loss=loss, epoch=epoch, epochs=epochs))"
      ],
      "execution_count": 3,
      "outputs": []
    },
    {
      "cell_type": "markdown",
      "metadata": {
        "id": "QxpHO4kBkU3e"
      },
      "source": [
        "# Part 1. Kaggle Competition\r\n",
        "To use the Kaggle API, sign up for a Kaggle account at https://www.kaggle.com. Then go to the 'Account' tab of your user profile (`https://www.kaggle.com/<username>/account`) and select 'Create API Token'. This will trigger the download of `kaggle.json`, a file containing your API credentials. Place this file in Colab Files on the left menu.\r\n",
        "\r\n",
        "Then join the competition and accept the rules at https://www.kaggle.com/c/permuted-animal-faces/rules.\r\n",
        "Now we can handle the submisions here using the Kaggle API:"
      ]
    },
    {
      "cell_type": "markdown",
      "metadata": {
        "id": "tafGG7zF_ipg"
      },
      "source": [
        "![image.png](data:image/png;base64,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)"
      ]
    },
    {
      "cell_type": "code",
      "metadata": {
        "id": "lfDMhvNwzTxx",
        "colab": {
          "base_uri": "https://localhost:8080/"
        },
        "outputId": "87d43d6b-ed79-4b79-c2ad-5fe90dfd15c2"
      },
      "source": [
        "# registering your API key\r\n",
        "!mkdir ~/.kaggle\r\n",
        "!cp kaggle.json ~/.kaggle/\r\n",
        "!chmod 600 ~/.kaggle/kaggle.json"
      ],
      "execution_count": 4,
      "outputs": [
        {
          "output_type": "stream",
          "text": [
            "mkdir: cannot create directory ‘/root/.kaggle’: File exists\n"
          ],
          "name": "stdout"
        }
      ]
    },
    {
      "cell_type": "code",
      "metadata": {
        "id": "6D0MvzgrzioP",
        "colab": {
          "base_uri": "https://localhost:8080/"
        },
        "outputId": "ba31a802-50f6-4410-8d7f-294bd90414bf"
      },
      "source": [
        "!kaggle competitions download -c permuted-animal-faces\r\n",
        "!unzip permuted-animal-faces.zip"
      ],
      "execution_count": 5,
      "outputs": [
        {
          "output_type": "stream",
          "text": [
            "Downloading permuted-animal-faces.zip to /content\n",
            " 83% 52.0M/62.8M [00:00<00:00, 102MB/s] \n",
            "100% 62.8M/62.8M [00:00<00:00, 116MB/s]\n",
            "Archive:  permuted-animal-faces.zip\n",
            "  inflating: sampleSubmission.csv    \n",
            "  inflating: test.csv                \n",
            "  inflating: train.csv               \n"
          ],
          "name": "stdout"
        }
      ]
    },
    {
      "cell_type": "markdown",
      "metadata": {
        "id": "jt270XcTDaRH"
      },
      "source": [
        "Now it's your turn to train a competitive model using what you learned about MLPs and show it off to the rest of the world in the Kaggle leaderboard.\r\n",
        "\r\n",
        "Here we provided you the same code as in the tutorial and the submission code, which you can run and get a baseline result. But we encourage you to get creative and combine your previous ML know-how since nothing is off the table in this competition."
      ]
    },
    {
      "cell_type": "code",
      "metadata": {
        "id": "LFSQh1demt0n"
      },
      "source": [
        "class Net(nn.Module):\r\n",
        "    def __init__(self, actv, num_inputs, hidden_units, num_outputs):\r\n",
        "        super(Net, self).__init__()\r\n",
        "\r\n",
        "        exec('self.actv = nn.%s'%actv)   # [TO-DO]\r\n",
        "\r\n",
        "        self.layers = nn.ModuleList()\r\n",
        "        for i in range(len(hidden_units)):\r\n",
        "          next_num_inputs = hidden_units[i] \r\n",
        "          self.layers += [nn.Linear(num_inputs, next_num_inputs)]   # [TO-DO]\r\n",
        "          num_inputs = next_num_inputs\r\n",
        "\r\n",
        "        self.out = nn.Linear(num_inputs, num_outputs)\r\n",
        "        self.dropout = nn.Dropout(p=0.2)\r\n",
        "\r\n",
        "    def forward(self, x):\r\n",
        "        # flattening\r\n",
        "        x = x.view(x.shape[0], -1)   # [TO-DO]\r\n",
        "\r\n",
        "        for layer in self.layers:\r\n",
        "          x = self.actv(layer(x))\r\n",
        "        x = self.dropout(x)  # [TO-DO]\r\n",
        "        x = self.out(x) # [TO-DO]\r\n",
        "        return x"
      ],
      "execution_count": 7,
      "outputs": []
    },
    {
      "cell_type": "code",
      "metadata": {
        "id": "Xb23NZ3l4BUB",
        "colab": {
          "base_uri": "https://localhost:8080/",
          "height": 261
        },
        "outputId": "3cf34b8b-b659-43f5-85dc-f07d7872e644"
      },
      "source": [
        "df = pd.read_csv('train.csv')\r\n",
        "df.head()"
      ],
      "execution_count": 8,
      "outputs": [
        {
          "output_type": "execute_result",
          "data": {
            "text/html": [
              "<div>\n",
              "<style scoped>\n",
              "    .dataframe tbody tr th:only-of-type {\n",
              "        vertical-align: middle;\n",
              "    }\n",
              "\n",
              "    .dataframe tbody tr th {\n",
              "        vertical-align: top;\n",
              "    }\n",
              "\n",
              "    .dataframe thead th {\n",
              "        text-align: right;\n",
              "    }\n",
              "</style>\n",
              "<table border=\"1\" class=\"dataframe\">\n",
              "  <thead>\n",
              "    <tr style=\"text-align: right;\">\n",
              "      <th></th>\n",
              "      <th>Label</th>\n",
              "      <th>pixel 1</th>\n",
              "      <th>pixel 2</th>\n",
              "      <th>pixel 3</th>\n",
              "      <th>pixel 4</th>\n",
              "      <th>pixel 5</th>\n",
              "      <th>pixel 6</th>\n",
              "      <th>pixel 7</th>\n",
              "      <th>pixel 8</th>\n",
              "      <th>pixel 9</th>\n",
              "      <th>pixel 10</th>\n",
              "      <th>pixel 11</th>\n",
              "      <th>pixel 12</th>\n",
              "      <th>pixel 13</th>\n",
              "      <th>pixel 14</th>\n",
              "      <th>pixel 15</th>\n",
              "      <th>pixel 16</th>\n",
              "      <th>pixel 17</th>\n",
              "      <th>pixel 18</th>\n",
              "      <th>pixel 19</th>\n",
              "      <th>pixel 20</th>\n",
              "      <th>pixel 21</th>\n",
              "      <th>pixel 22</th>\n",
              "      <th>pixel 23</th>\n",
              "      <th>pixel 24</th>\n",
              "      <th>pixel 25</th>\n",
              "      <th>pixel 26</th>\n",
              "      <th>pixel 27</th>\n",
              "      <th>pixel 28</th>\n",
              "      <th>pixel 29</th>\n",
              "      <th>pixel 30</th>\n",
              "      <th>pixel 31</th>\n",
              "      <th>pixel 32</th>\n",
              "      <th>pixel 33</th>\n",
              "      <th>pixel 34</th>\n",
              "      <th>pixel 35</th>\n",
              "      <th>pixel 36</th>\n",
              "      <th>pixel 37</th>\n",
              "      <th>pixel 38</th>\n",
              "      <th>pixel 39</th>\n",
              "      <th>...</th>\n",
              "      <th>pixel 3033</th>\n",
              "      <th>pixel 3034</th>\n",
              "      <th>pixel 3035</th>\n",
              "      <th>pixel 3036</th>\n",
              "      <th>pixel 3037</th>\n",
              "      <th>pixel 3038</th>\n",
              "      <th>pixel 3039</th>\n",
              "      <th>pixel 3040</th>\n",
              "      <th>pixel 3041</th>\n",
              "      <th>pixel 3042</th>\n",
              "      <th>pixel 3043</th>\n",
              "      <th>pixel 3044</th>\n",
              "      <th>pixel 3045</th>\n",
              "      <th>pixel 3046</th>\n",
              "      <th>pixel 3047</th>\n",
              "      <th>pixel 3048</th>\n",
              "      <th>pixel 3049</th>\n",
              "      <th>pixel 3050</th>\n",
              "      <th>pixel 3051</th>\n",
              "      <th>pixel 3052</th>\n",
              "      <th>pixel 3053</th>\n",
              "      <th>pixel 3054</th>\n",
              "      <th>pixel 3055</th>\n",
              "      <th>pixel 3056</th>\n",
              "      <th>pixel 3057</th>\n",
              "      <th>pixel 3058</th>\n",
              "      <th>pixel 3059</th>\n",
              "      <th>pixel 3060</th>\n",
              "      <th>pixel 3061</th>\n",
              "      <th>pixel 3062</th>\n",
              "      <th>pixel 3063</th>\n",
              "      <th>pixel 3064</th>\n",
              "      <th>pixel 3065</th>\n",
              "      <th>pixel 3066</th>\n",
              "      <th>pixel 3067</th>\n",
              "      <th>pixel 3068</th>\n",
              "      <th>pixel 3069</th>\n",
              "      <th>pixel 3070</th>\n",
              "      <th>pixel 3071</th>\n",
              "      <th>pixel 3072</th>\n",
              "    </tr>\n",
              "  </thead>\n",
              "  <tbody>\n",
              "    <tr>\n",
              "      <th>0</th>\n",
              "      <td>2</td>\n",
              "      <td>162</td>\n",
              "      <td>105</td>\n",
              "      <td>32</td>\n",
              "      <td>160</td>\n",
              "      <td>83</td>\n",
              "      <td>123</td>\n",
              "      <td>146</td>\n",
              "      <td>138</td>\n",
              "      <td>74</td>\n",
              "      <td>59</td>\n",
              "      <td>126</td>\n",
              "      <td>68</td>\n",
              "      <td>0</td>\n",
              "      <td>82</td>\n",
              "      <td>96</td>\n",
              "      <td>77</td>\n",
              "      <td>188</td>\n",
              "      <td>61</td>\n",
              "      <td>58</td>\n",
              "      <td>134</td>\n",
              "      <td>63</td>\n",
              "      <td>222</td>\n",
              "      <td>152</td>\n",
              "      <td>128</td>\n",
              "      <td>114</td>\n",
              "      <td>74</td>\n",
              "      <td>193</td>\n",
              "      <td>55</td>\n",
              "      <td>82</td>\n",
              "      <td>84</td>\n",
              "      <td>130</td>\n",
              "      <td>111</td>\n",
              "      <td>109</td>\n",
              "      <td>41</td>\n",
              "      <td>75</td>\n",
              "      <td>160</td>\n",
              "      <td>203</td>\n",
              "      <td>158</td>\n",
              "      <td>49</td>\n",
              "      <td>...</td>\n",
              "      <td>89</td>\n",
              "      <td>109</td>\n",
              "      <td>186</td>\n",
              "      <td>122</td>\n",
              "      <td>197</td>\n",
              "      <td>107</td>\n",
              "      <td>168</td>\n",
              "      <td>131</td>\n",
              "      <td>91</td>\n",
              "      <td>103</td>\n",
              "      <td>59</td>\n",
              "      <td>130</td>\n",
              "      <td>62</td>\n",
              "      <td>106</td>\n",
              "      <td>128</td>\n",
              "      <td>164</td>\n",
              "      <td>74</td>\n",
              "      <td>58</td>\n",
              "      <td>114</td>\n",
              "      <td>152</td>\n",
              "      <td>82</td>\n",
              "      <td>180</td>\n",
              "      <td>177</td>\n",
              "      <td>111</td>\n",
              "      <td>30</td>\n",
              "      <td>155</td>\n",
              "      <td>145</td>\n",
              "      <td>64</td>\n",
              "      <td>173</td>\n",
              "      <td>130</td>\n",
              "      <td>78</td>\n",
              "      <td>170</td>\n",
              "      <td>150</td>\n",
              "      <td>56</td>\n",
              "      <td>144</td>\n",
              "      <td>94</td>\n",
              "      <td>54</td>\n",
              "      <td>103</td>\n",
              "      <td>157</td>\n",
              "      <td>110</td>\n",
              "    </tr>\n",
              "    <tr>\n",
              "      <th>1</th>\n",
              "      <td>0</td>\n",
              "      <td>72</td>\n",
              "      <td>199</td>\n",
              "      <td>23</td>\n",
              "      <td>46</td>\n",
              "      <td>121</td>\n",
              "      <td>36</td>\n",
              "      <td>116</td>\n",
              "      <td>244</td>\n",
              "      <td>50</td>\n",
              "      <td>245</td>\n",
              "      <td>106</td>\n",
              "      <td>225</td>\n",
              "      <td>83</td>\n",
              "      <td>199</td>\n",
              "      <td>98</td>\n",
              "      <td>161</td>\n",
              "      <td>37</td>\n",
              "      <td>12</td>\n",
              "      <td>51</td>\n",
              "      <td>144</td>\n",
              "      <td>232</td>\n",
              "      <td>81</td>\n",
              "      <td>58</td>\n",
              "      <td>99</td>\n",
              "      <td>236</td>\n",
              "      <td>211</td>\n",
              "      <td>119</td>\n",
              "      <td>100</td>\n",
              "      <td>240</td>\n",
              "      <td>128</td>\n",
              "      <td>28</td>\n",
              "      <td>37</td>\n",
              "      <td>117</td>\n",
              "      <td>135</td>\n",
              "      <td>232</td>\n",
              "      <td>156</td>\n",
              "      <td>58</td>\n",
              "      <td>126</td>\n",
              "      <td>60</td>\n",
              "      <td>...</td>\n",
              "      <td>165</td>\n",
              "      <td>132</td>\n",
              "      <td>51</td>\n",
              "      <td>163</td>\n",
              "      <td>30</td>\n",
              "      <td>101</td>\n",
              "      <td>123</td>\n",
              "      <td>31</td>\n",
              "      <td>50</td>\n",
              "      <td>21</td>\n",
              "      <td>241</td>\n",
              "      <td>36</td>\n",
              "      <td>55</td>\n",
              "      <td>179</td>\n",
              "      <td>104</td>\n",
              "      <td>84</td>\n",
              "      <td>225</td>\n",
              "      <td>237</td>\n",
              "      <td>152</td>\n",
              "      <td>37</td>\n",
              "      <td>160</td>\n",
              "      <td>98</td>\n",
              "      <td>156</td>\n",
              "      <td>170</td>\n",
              "      <td>104</td>\n",
              "      <td>74</td>\n",
              "      <td>48</td>\n",
              "      <td>41</td>\n",
              "      <td>39</td>\n",
              "      <td>174</td>\n",
              "      <td>196</td>\n",
              "      <td>154</td>\n",
              "      <td>157</td>\n",
              "      <td>240</td>\n",
              "      <td>78</td>\n",
              "      <td>67</td>\n",
              "      <td>161</td>\n",
              "      <td>163</td>\n",
              "      <td>163</td>\n",
              "      <td>139</td>\n",
              "    </tr>\n",
              "    <tr>\n",
              "      <th>2</th>\n",
              "      <td>2</td>\n",
              "      <td>60</td>\n",
              "      <td>255</td>\n",
              "      <td>33</td>\n",
              "      <td>45</td>\n",
              "      <td>59</td>\n",
              "      <td>72</td>\n",
              "      <td>82</td>\n",
              "      <td>75</td>\n",
              "      <td>116</td>\n",
              "      <td>83</td>\n",
              "      <td>128</td>\n",
              "      <td>250</td>\n",
              "      <td>13</td>\n",
              "      <td>255</td>\n",
              "      <td>35</td>\n",
              "      <td>253</td>\n",
              "      <td>213</td>\n",
              "      <td>60</td>\n",
              "      <td>75</td>\n",
              "      <td>71</td>\n",
              "      <td>255</td>\n",
              "      <td>128</td>\n",
              "      <td>43</td>\n",
              "      <td>78</td>\n",
              "      <td>253</td>\n",
              "      <td>251</td>\n",
              "      <td>111</td>\n",
              "      <td>78</td>\n",
              "      <td>124</td>\n",
              "      <td>43</td>\n",
              "      <td>72</td>\n",
              "      <td>105</td>\n",
              "      <td>131</td>\n",
              "      <td>16</td>\n",
              "      <td>253</td>\n",
              "      <td>223</td>\n",
              "      <td>0</td>\n",
              "      <td>88</td>\n",
              "      <td>35</td>\n",
              "      <td>...</td>\n",
              "      <td>166</td>\n",
              "      <td>0</td>\n",
              "      <td>53</td>\n",
              "      <td>0</td>\n",
              "      <td>110</td>\n",
              "      <td>42</td>\n",
              "      <td>169</td>\n",
              "      <td>25</td>\n",
              "      <td>89</td>\n",
              "      <td>39</td>\n",
              "      <td>0</td>\n",
              "      <td>113</td>\n",
              "      <td>76</td>\n",
              "      <td>202</td>\n",
              "      <td>0</td>\n",
              "      <td>82</td>\n",
              "      <td>253</td>\n",
              "      <td>0</td>\n",
              "      <td>128</td>\n",
              "      <td>90</td>\n",
              "      <td>180</td>\n",
              "      <td>121</td>\n",
              "      <td>255</td>\n",
              "      <td>255</td>\n",
              "      <td>104</td>\n",
              "      <td>135</td>\n",
              "      <td>241</td>\n",
              "      <td>56</td>\n",
              "      <td>104</td>\n",
              "      <td>255</td>\n",
              "      <td>255</td>\n",
              "      <td>86</td>\n",
              "      <td>235</td>\n",
              "      <td>149</td>\n",
              "      <td>63</td>\n",
              "      <td>21</td>\n",
              "      <td>253</td>\n",
              "      <td>86</td>\n",
              "      <td>255</td>\n",
              "      <td>191</td>\n",
              "    </tr>\n",
              "    <tr>\n",
              "      <th>3</th>\n",
              "      <td>0</td>\n",
              "      <td>185</td>\n",
              "      <td>198</td>\n",
              "      <td>23</td>\n",
              "      <td>148</td>\n",
              "      <td>174</td>\n",
              "      <td>59</td>\n",
              "      <td>114</td>\n",
              "      <td>207</td>\n",
              "      <td>165</td>\n",
              "      <td>218</td>\n",
              "      <td>224</td>\n",
              "      <td>187</td>\n",
              "      <td>161</td>\n",
              "      <td>214</td>\n",
              "      <td>176</td>\n",
              "      <td>212</td>\n",
              "      <td>153</td>\n",
              "      <td>134</td>\n",
              "      <td>98</td>\n",
              "      <td>94</td>\n",
              "      <td>230</td>\n",
              "      <td>133</td>\n",
              "      <td>137</td>\n",
              "      <td>85</td>\n",
              "      <td>206</td>\n",
              "      <td>200</td>\n",
              "      <td>111</td>\n",
              "      <td>154</td>\n",
              "      <td>210</td>\n",
              "      <td>152</td>\n",
              "      <td>96</td>\n",
              "      <td>175</td>\n",
              "      <td>230</td>\n",
              "      <td>142</td>\n",
              "      <td>177</td>\n",
              "      <td>218</td>\n",
              "      <td>0</td>\n",
              "      <td>143</td>\n",
              "      <td>52</td>\n",
              "      <td>...</td>\n",
              "      <td>169</td>\n",
              "      <td>0</td>\n",
              "      <td>108</td>\n",
              "      <td>0</td>\n",
              "      <td>189</td>\n",
              "      <td>108</td>\n",
              "      <td>202</td>\n",
              "      <td>138</td>\n",
              "      <td>151</td>\n",
              "      <td>91</td>\n",
              "      <td>0</td>\n",
              "      <td>103</td>\n",
              "      <td>121</td>\n",
              "      <td>210</td>\n",
              "      <td>0</td>\n",
              "      <td>176</td>\n",
              "      <td>177</td>\n",
              "      <td>0</td>\n",
              "      <td>232</td>\n",
              "      <td>87</td>\n",
              "      <td>215</td>\n",
              "      <td>206</td>\n",
              "      <td>203</td>\n",
              "      <td>224</td>\n",
              "      <td>188</td>\n",
              "      <td>117</td>\n",
              "      <td>194</td>\n",
              "      <td>63</td>\n",
              "      <td>111</td>\n",
              "      <td>223</td>\n",
              "      <td>227</td>\n",
              "      <td>78</td>\n",
              "      <td>230</td>\n",
              "      <td>199</td>\n",
              "      <td>117</td>\n",
              "      <td>200</td>\n",
              "      <td>211</td>\n",
              "      <td>206</td>\n",
              "      <td>219</td>\n",
              "      <td>150</td>\n",
              "    </tr>\n",
              "    <tr>\n",
              "      <th>4</th>\n",
              "      <td>2</td>\n",
              "      <td>176</td>\n",
              "      <td>54</td>\n",
              "      <td>96</td>\n",
              "      <td>131</td>\n",
              "      <td>80</td>\n",
              "      <td>210</td>\n",
              "      <td>177</td>\n",
              "      <td>87</td>\n",
              "      <td>158</td>\n",
              "      <td>45</td>\n",
              "      <td>169</td>\n",
              "      <td>94</td>\n",
              "      <td>116</td>\n",
              "      <td>58</td>\n",
              "      <td>114</td>\n",
              "      <td>75</td>\n",
              "      <td>75</td>\n",
              "      <td>67</td>\n",
              "      <td>154</td>\n",
              "      <td>187</td>\n",
              "      <td>66</td>\n",
              "      <td>116</td>\n",
              "      <td>107</td>\n",
              "      <td>165</td>\n",
              "      <td>69</td>\n",
              "      <td>64</td>\n",
              "      <td>188</td>\n",
              "      <td>110</td>\n",
              "      <td>69</td>\n",
              "      <td>133</td>\n",
              "      <td>126</td>\n",
              "      <td>74</td>\n",
              "      <td>168</td>\n",
              "      <td>56</td>\n",
              "      <td>49</td>\n",
              "      <td>89</td>\n",
              "      <td>179</td>\n",
              "      <td>105</td>\n",
              "      <td>118</td>\n",
              "      <td>...</td>\n",
              "      <td>179</td>\n",
              "      <td>55</td>\n",
              "      <td>173</td>\n",
              "      <td>67</td>\n",
              "      <td>41</td>\n",
              "      <td>137</td>\n",
              "      <td>84</td>\n",
              "      <td>196</td>\n",
              "      <td>87</td>\n",
              "      <td>122</td>\n",
              "      <td>64</td>\n",
              "      <td>173</td>\n",
              "      <td>146</td>\n",
              "      <td>168</td>\n",
              "      <td>75</td>\n",
              "      <td>110</td>\n",
              "      <td>103</td>\n",
              "      <td>72</td>\n",
              "      <td>183</td>\n",
              "      <td>184</td>\n",
              "      <td>65</td>\n",
              "      <td>133</td>\n",
              "      <td>62</td>\n",
              "      <td>87</td>\n",
              "      <td>57</td>\n",
              "      <td>135</td>\n",
              "      <td>59</td>\n",
              "      <td>179</td>\n",
              "      <td>171</td>\n",
              "      <td>116</td>\n",
              "      <td>57</td>\n",
              "      <td>103</td>\n",
              "      <td>75</td>\n",
              "      <td>175</td>\n",
              "      <td>162</td>\n",
              "      <td>135</td>\n",
              "      <td>75</td>\n",
              "      <td>65</td>\n",
              "      <td>78</td>\n",
              "      <td>147</td>\n",
              "    </tr>\n",
              "  </tbody>\n",
              "</table>\n",
              "<p>5 rows × 3073 columns</p>\n",
              "</div>"
            ],
            "text/plain": [
              "   Label  pixel 1  pixel 2  ...  pixel 3070  pixel 3071  pixel 3072\n",
              "0      2      162      105  ...         103         157         110\n",
              "1      0       72      199  ...         163         163         139\n",
              "2      2       60      255  ...          86         255         191\n",
              "3      0      185      198  ...         206         219         150\n",
              "4      2      176       54  ...          65          78         147\n",
              "\n",
              "[5 rows x 3073 columns]"
            ]
          },
          "metadata": {
            "tags": []
          },
          "execution_count": 8
        }
      ]
    },
    {
      "cell_type": "code",
      "metadata": {
        "id": "XB9gCLi65txD"
      },
      "source": [
        "data = np.array(df)\r\n",
        "X_train = torch.tensor(data[:, 1:]).float()/255\r\n",
        "y_train = torch.tensor(data[:, 0]).long()"
      ],
      "execution_count": 9,
      "outputs": []
    },
    {
      "cell_type": "code",
      "metadata": {
        "id": "laqU5kuxwOnD"
      },
      "source": [
        "batch_size = 128\r\n",
        "train_data = TensorDataset(X_train, y_train)\r\n",
        "train_loader = DataLoader(train_data, batch_size=batch_size, drop_last=True,\r\n",
        "                        shuffle=True, num_workers=10)"
      ],
      "execution_count": 10,
      "outputs": []
    },
    {
      "cell_type": "code",
      "metadata": {
        "id": "6DUVNbJiwSfj"
      },
      "source": [
        "def train_test_classification(net, criterion, optimizer,\r\n",
        "                              train_loader,\r\n",
        "                              num_epochs=1, verbose=True,\r\n",
        "                              training_plot=True):\r\n",
        "  if verbose:\r\n",
        "    progress_bar = display(progress(0, 0, num_epochs), display_id=True)\r\n",
        "\r\n",
        "  net.train()\r\n",
        "  training_losses = []\r\n",
        "  for epoch in range(num_epochs):  # loop over the dataset multiple times\r\n",
        "      running_loss = 0.0\r\n",
        "      for i, data in enumerate(train_loader, 0):\r\n",
        "          # get the inputs; data is a list of [inputs, labels]\r\n",
        "          inputs, labels = data\r\n",
        "          inputs = inputs.to(dev).float()\r\n",
        "          labels = labels.to(dev).long()\r\n",
        "\r\n",
        "          # zero the parameter gradients\r\n",
        "          optimizer.zero_grad()\r\n",
        "\r\n",
        "          # forward + backward + optimize\r\n",
        "          outputs = net(inputs)\r\n",
        "\r\n",
        "          loss = criterion(outputs, labels)\r\n",
        "          loss.backward()\r\n",
        "          optimizer.step()\r\n",
        "\r\n",
        "          # print statistics\r\n",
        "          if verbose:\r\n",
        "            training_losses += [loss.item()]\r\n",
        "            running_loss += loss.item()\r\n",
        "            if i % 10 == 9:    # update every 10 mini-batches\r\n",
        "                progress_bar.update(progress(epoch+1, running_loss / 10, num_epochs))\r\n",
        "                running_loss = 0.0\r\n",
        "\r\n",
        "  net.eval()\r\n",
        "  def test(data_loader):\r\n",
        "    correct = 0\r\n",
        "    total = 0\r\n",
        "    for data in data_loader:\r\n",
        "        inputs, labels = data\r\n",
        "        inputs = inputs.to(dev).float()\r\n",
        "        labels = labels.to(dev).long()\r\n",
        "\r\n",
        "        outputs = net(inputs)\r\n",
        "        _, predicted = torch.max(outputs, 1)\r\n",
        "        total += labels.size(0)\r\n",
        "        correct += (predicted == labels).sum().item()\r\n",
        "\r\n",
        "    acc = 100 * correct / total\r\n",
        "    return total, acc\r\n",
        "\r\n",
        "  train_total, train_acc = test(train_loader)\r\n",
        "\r\n",
        "  if verbose:\r\n",
        "    print('Accuracy on the %d training samples: %0.2f %%' % (train_total, train_acc))\r\n",
        "\r\n",
        "  if training_plot:\r\n",
        "    plt.plot(training_losses)\r\n",
        "    plt.xlabel('Batch')\r\n",
        "    plt.ylabel('Training loss')\r\n",
        "    plt.show()\r\n",
        "  \r\n",
        "  return train_acc"
      ],
      "execution_count": 11,
      "outputs": []
    },
    {
      "cell_type": "code",
      "metadata": {
        "id": "OJd1-YuAwau6",
        "colab": {
          "base_uri": "https://localhost:8080/",
          "height": 331
        },
        "outputId": "9431325d-c095-49cc-d2cc-02571719a82d"
      },
      "source": [
        "net = Net('ReLU()', 3*32*32, [128, 32], 3).to(dev) \r\n",
        "criterion = nn.MultiMarginLoss(margin=1.0)\r\n",
        "optimizer = optim.Adam(net.parameters(), lr=3e-4)\r\n",
        "train_acc = train_test_classification(net, criterion, optimizer,\r\n",
        "                                      train_loader,\r\n",
        "                                      num_epochs=50)"
      ],
      "execution_count": 12,
      "outputs": [
        {
          "output_type": "display_data",
          "data": {
            "text/html": [
              "\n",
              "        <label for=\"file\">Training loss: 0.07517250739037991</label>\n",
              "        <progress\n",
              "            value='50'\n",
              "            max='50',\n",
              "            style='width: 100%'\n",
              "        >\n",
              "            50\n",
              "        </progress>\n",
              "    "
            ],
            "text/plain": [
              "<IPython.core.display.HTML object>"
            ]
          },
          "metadata": {
            "tags": []
          }
        },
        {
          "output_type": "stream",
          "text": [
            "Accuracy on the 14592 training samples: 92.59 %\n"
          ],
          "name": "stdout"
        },
        {
          "output_type": "display_data",
          "data": {
            "image/png": "[encoded data removed]",
            "text/plain": [
              "<Figure size 432x288 with 1 Axes>"
            ]
          },
          "metadata": {
            "tags": [],
            "needs_background": "light"
          }
        }
      ]
    },
    {
      "cell_type": "code",
      "metadata": {
        "id": "G9Vzhqtr7c6Y"
      },
      "source": [
        "# Predict test set\r\n",
        "df = pd.read_csv('test.csv')\r\n",
        "data = np.array(df)\r\n",
        "X_test = torch.tensor(data).float()/255\r\n",
        "\r\n",
        "net.eval()\r\n",
        "y_pred = net(X_test.to(dev))\r\n",
        "labels_pred = torch.argmax(y_pred, dim=1)"
      ],
      "execution_count": 13,
      "outputs": []
    },
    {
      "cell_type": "code",
      "metadata": {
        "id": "rAOeoZH48OuJ"
      },
      "source": [
        "# create the submission file\r\n",
        "header = ['ImageId', 'Label']\r\n",
        "with open('submission.csv', 'w', newline='') as file:\r\n",
        "    writer = csv.writer(file)\r\n",
        "    writer.writerow(header)\r\n",
        "    \r\n",
        "    for i in range(len(labels_pred)):\r\n",
        "      writer.writerow([i+1] + [labels_pred[i].item()])"
      ],
      "execution_count": 14,
      "outputs": []
    },
    {
      "cell_type": "code",
      "metadata": {
        "id": "XEojRbYH9adp"
      },
      "source": [
        "# submit\r\n",
        "!kaggle competitions submit permuted-animal-faces -f submission.csv -m \"Result with same model as in the tutorial\""
      ],
      "execution_count": null,
      "outputs": []
    },
    {
      "cell_type": "markdown",
      "metadata": {
        "id": "p_gDgatsCKJL"
      },
      "source": [
        "Note that you can submit maximum 20 times a day. Participants will need to wait until the next UTC day after submitting the maximum number of daily submissions.\r\n",
        "\r\n",
        "And finally you can hand select 2 submissions among your previous ones to be used for the final ranking."
      ]
    },
    {
      "cell_type": "markdown",
      "metadata": {
        "id": "_GEV3MSbDQX3"
      },
      "source": [
        "# Part 2. Deep Learning, Deeper Thinking\n",
        "\n"
      ]
    },
    {
      "cell_type": "markdown",
      "metadata": {
        "id": "2vh4iLLj0qN0"
      },
      "source": [
        "## 2.1 Our Data-Processing Wish List\n",
        "\n",
        "By now you should be pretty familiar with classifying animal faces using multi-layer perceptrons. MLPs make very few assumptions about the underlying structure of the data, which make them very flexible in approximating a wide variety of functions. However, sometimes it can be helpful to constrain the set of possible functions we want to approximate by introducing some \"rules\" that these functions need to follow. We call these rules **inductive biases**. \n",
        "\n",
        "For example, one inductive bias might be the rule that \"A cat is a cat, no matter where it is placed in the image. An upper-left-corner cat is just as much of a cat as a lower-right-corner cat.\" That describes an inductive bias called **translational invariance**, which basically says that the class of an object is invariant to translation (it doesn't matter where it is, as long as it's there). If we could have a model that preserves translational invariance, chances are it would be helpful in finding us good models for image processing (more on this later). \n",
        "\n",
        "**Now that you're familiar with the concept of inductive biases, please do the following:**\n",
        "* List one inductive bias other than translational invariance that would be good to have for image processing\n",
        "* Suppose you're trying to develop a model to assign credit scores to people based on their personal data. What kind of inductive biases or data guarantees would you want to impose on this system?"
      ]
    },
    {
      "cell_type": "code",
      "metadata": {
        "id": "7DfgGaluts9P"
      },
      "source": [
        "#Delete the starter text, enter your response, and run the cell.\n",
        "q_2_1 = '''\n",
        "Your Response to Q 2.1 Here\n",
        "\n",
        "'''"
      ],
      "execution_count": null,
      "outputs": []
    },
    {
      "cell_type": "markdown",
      "metadata": {
        "id": "RxuEtqNmxqkT"
      },
      "source": [
        "## 2.2 The Ethics of Facial Recognition\n",
        "In part 1, we just had you create a network that was good at classifying faces of animals. What happens when this technologies are used on humans? What happens when these technologies are used by law enforcement? In this section, we'll explore these implications. So play your favorite Lo-Fi Beats to Study/Relax To and let's get started!\n"
      ]
    },
    {
      "cell_type": "markdown",
      "metadata": {
        "id": "RO8qZ_IDxL8g"
      },
      "source": [
        "### 2.2.1 **America Under Watch**\n",
        "As data scientists, we often complain that we don't have enough data. Sometimes lack of good data isn't the problem. What happens if we collect data *everywhere*? In many countries around the world, facial recognition is used by law enforcement to conduct wide-scale law enforcement. Thankfully that's not the case in the United States. Right? \n",
        "\n",
        "*... Right?* \n",
        "\n",
        "Read the following:\n",
        "\n",
        "* https://www.americaunderwatch.com/\n",
        "\n",
        "**In 200-300 words, please answer the following questions.** \n",
        "* In America Under Watch, the Georgetown Law Center proposes a moratorium (temporary freeze) on the police use of facial recognition. Do you agree or disagree with this choice, and why? \n",
        "* The article mentions the fact that *facial surveillance is disproportionately likely to impact communities of color and communities with lower socio-economic status (SES)*. Think about what this means about what amount + what kinds of data law enforcement collect on people of color. How might this perpetuate cycles of incarceration for people of color in the U.S.?\n",
        "* If facial recognition were to be put in place in a highly secure location, like the White House, what kind of inductive biases would you want to ensure that such a system would have? What guarantees might you want to have about the data that is used to train the network, the data that is collected, and what is done with the data afterward? \n",
        "\n"
      ]
    },
    {
      "cell_type": "code",
      "metadata": {
        "id": "i7Bz8XqX26yt"
      },
      "source": [
        "#Delete the starter text, enter your response, and run the cell.\n",
        "q_2_2_1 = '''\n",
        "Your Response to Q 2.2.1 Here (200 - 300 words)\n",
        "\n",
        "'''"
      ],
      "execution_count": null,
      "outputs": []
    },
    {
      "cell_type": "markdown",
      "metadata": {
        "id": "b5qeXoWo3Bb6"
      },
      "source": [
        "### 2.2.2 **Grab Some Popcorn**\n"
      ]
    },
    {
      "cell_type": "code",
      "metadata": {
        "cellView": "form",
        "id": "wZ8751Th3Vh4"
      },
      "source": [
        "#@markdown That's enough reading for today, don't you think? Grab some popcorn, run this cell, and watch this video\n",
        "from IPython.display import YouTubeVideo\n",
        "video = YouTubeVideo(id=\"jZjmlJPJgug\", width=854, height=480, fs=1)\n",
        "print(\"Video available at https://youtube.com/watch?v=\" + video.id)\n",
        "\n",
        "video"
      ],
      "execution_count": null,
      "outputs": []
    },
    {
      "cell_type": "markdown",
      "metadata": {
        "id": "T79vzE1K4Ho7"
      },
      "source": [
        "**In 200-300 words, please answer the following questions**\n",
        "* In the segment, John Oliver mentions that Clearview AI uses \"publicly available data\", which includes public profile information on Facebook, LinkedIn, Twitter, and Instagram. Clearview argues that this information has all been willingly made public. Do you agree? Why or why not?\n",
        "* Some prominent data scientists claim that \"data/algorithms don't have bias, people have bias\". Do you agree with this sentiment? Why or why not?\n"
      ]
    },
    {
      "cell_type": "code",
      "metadata": {
        "id": "gqFIndfb4ubV"
      },
      "source": [
        "#Delete the starter text, enter your response, and run the cell.\n",
        "q_2_2_2 = '''\n",
        "Your Response to Q 2.2.2 Here (200 - 300 words)\n",
        "\n",
        "'''"
      ],
      "execution_count": null,
      "outputs": []
    },
    {
      "cell_type": "markdown",
      "metadata": {
        "id": "lxsQXMFc8v91"
      },
      "source": [
        "# Submit to Airtable\n",
        "**Don't forget to contribute to the conversation in your pod slack channel.** You can do so by copying and pasting some or all of the answers to the above questions, or by commenting and responding to other people's posts.\n"
      ]
    },
    {
      "cell_type": "code",
      "metadata": {
        "id": "AlH_Ub579KEJ",
        "cellView": "form"
      },
      "source": [
        "import time\n",
        "import numpy as np\n",
        "from IPython.display import IFrame\n",
        "#@markdown #Run Cell to Show Airtable Form\n",
        "#@markdown ##**Confirm your answers and then click \"Submit\"**\n",
        "\n",
        "def prefill_form(src, fields: dict):\n",
        "  '''\n",
        "  src: the original src url to embed the form\n",
        "  fields: a dictionary of field:value pairs,\n",
        "  e.g. {\"pennkey\": my_pennkey, \"location\": my_location}\n",
        "  '''\n",
        "  prefills = \"&\".join([\"prefill_%s=%s\"%(key, fields[key]) for key in fields])\n",
        "  src = src + prefills\n",
        "  src = \"+\".join(src.split(\" \"))\n",
        "  return src\n",
        "\n",
        "\n",
        "#autofill time if it is not present\n",
        "try: t0;\n",
        "except NameError: t0 = time.time()\n",
        "try: t1;\n",
        "except NameError: t1 = time.time()\n",
        "\n",
        "#autofill fields if they are not present\n",
        "#a missing pennkey and pod will result in an Airtable warning\n",
        "#which is easily fixed user-side.\n",
        "try: my_pennkey;\n",
        "except NameError: my_pennkey = \"\"\n",
        "try: my_pod;\n",
        "except NameError: my_pod = \"Select\"\n",
        "try: q_2_1;\n",
        "except NameError: q_2_1 = \"\"\n",
        "try: q_2_2_1;\n",
        "except NameError: q_2_2_1 = \"\"\n",
        "try: q_2_2_2;\n",
        "except NameError: q_2_2_2 = \"\"\n",
        "\n",
        "\n",
        "times = np.array([t1])-t0\n",
        "\n",
        "fields = {\"pennkey\": my_pennkey,\n",
        "          \"pod\": my_pod,\n",
        "          \"q_2_1\": q_2_1,\n",
        "          \"q_2_2_1\": q_2_2_1,\n",
        "          \"q_2_2_2\": q_2_2_2,\n",
        "          \"cumulative_times\": times}\n",
        "\n",
        "src = \"https://airtable.com/embed/shrzuKoahe4ZQKvND?\"\n",
        "\n",
        "#now instead of the original source url, we do: src = prefill_form(src, fields)\n",
        "display(IFrame(src = prefill_form(src, fields), width = 800, height = 400))"
      ],
      "execution_count": null,
      "outputs": []
    }
  ]
}